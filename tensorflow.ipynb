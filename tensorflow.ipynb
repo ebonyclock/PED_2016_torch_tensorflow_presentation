{
 "cells": [
  {
   "cell_type": "code",
   "execution_count": null,
   "metadata": {
    "collapsed": false
   },
   "outputs": [],
   "source": [
    "from __future__ import print_function\n",
    "import tensorflow as tf\n",
    "from util import *\n",
    "\n",
    "%matplotlib inline"
   ]
  },
  {
   "cell_type": "code",
   "execution_count": null,
   "metadata": {
    "collapsed": true
   },
   "outputs": [],
   "source": [
    "# Totally minimalistic example:\n",
    "\n",
    "# An array:\n",
    "a = np.array([[1, 1, 1],\n",
    "              [2, 2, 2],\n",
    "              [3, 3, 3]], dtype=np.float32)\n",
    "\n",
    "# TF variable created from the array\n",
    "a_var = tf.Variable(a)\n",
    "\n",
    "# TF placeholder (input)\n",
    "v_placeholder = tf.placeholder(tf.float32, [3,1])\n",
    "\n",
    "# Multiplication operation\n",
    "res = tf.matmul(a_var, v_placeholder)"
   ]
  },
  {
   "cell_type": "code",
   "execution_count": null,
   "metadata": {
    "collapsed": false
   },
   "outputs": [],
   "source": [
    "# Session and initialization of variables\n",
    "sess = tf.InteractiveSession()\n",
    "sess.run(tf.global_variables_initializer())"
   ]
  },
  {
   "cell_type": "code",
   "execution_count": null,
   "metadata": {
    "collapsed": false
   },
   "outputs": [],
   "source": [
    "# Runing the multiplication in TF session\n",
    "v = np.array([[2, 4, 8]], dtype=np.float32).T\n",
    "feed_dict = {v_placeholder: v}\n",
    "print(res.eval(feed_dict=feed_dict))"
   ]
  },
  {
   "cell_type": "code",
   "execution_count": null,
   "metadata": {
    "collapsed": false
   },
   "outputs": [],
   "source": [
    "dataset_separable = read_file(\"dataset1\")\n",
    "dataset_inseparable = read_file(\"dataset2\")"
   ]
  },
  {
   "cell_type": "code",
   "execution_count": null,
   "metadata": {
    "collapsed": false
   },
   "outputs": [],
   "source": [
    "plot_dataset(dataset_separable, False)\n",
    "plot_dataset(dataset_separable, True)\n",
    "\n",
    "plot_dataset(dataset_inseparable, False)\n",
    "plot_dataset(dataset_inseparable, True)"
   ]
  },
  {
   "cell_type": "code",
   "execution_count": null,
   "metadata": {
    "collapsed": true
   },
   "outputs": [],
   "source": [
    "# Some hyper parameters (actually only 1)\n",
    "learning_rate = 0.01"
   ]
  },
  {
   "cell_type": "code",
   "execution_count": null,
   "metadata": {
    "collapsed": true
   },
   "outputs": [],
   "source": [
    "# Defining placeholders\n",
    "x = tf.placeholder(tf.float32, [None, 2])\n",
    "labels = tf.placeholder(tf.float32, [None, 1])"
   ]
  },
  {
   "cell_type": "code",
   "execution_count": null,
   "metadata": {
    "collapsed": true
   },
   "outputs": [],
   "source": [
    "# Logistic regression model\n",
    "\n",
    "W = tf.Variable(tf.zeros([2, 1]))\n",
    "b = tf.Variable(tf.zeros([1]))\n",
    "\n",
    "h = tf.matmul(x, W) + b"
   ]
  },
  {
   "cell_type": "code",
   "execution_count": null,
   "metadata": {
    "collapsed": true
   },
   "outputs": [],
   "source": [
    "# 'Deep' network model (the easy way)\n",
    "\n",
    "fc1 = tf.contrib.layers.fully_connected(x, num_outputs=10, activation_fn=tf.nn.relu)\n",
    "fc2 = tf.contrib.layers.fully_connected(fc1, num_outputs=10, activation_fn=tf.nn.relu)\n",
    "h = tf.contrib.layers.fully_connected(fc2, num_outputs=1, activation_fn=None)"
   ]
  },
  {
   "cell_type": "code",
   "execution_count": null,
   "metadata": {
    "collapsed": true
   },
   "outputs": [],
   "source": [
    "# Defining the rest of the computation graph\n",
    "pred = tf.greater(tf.nn.sigmoid(h), 0.5)\n",
    "loss = tf.reduce_mean(tf.nn.sigmoid_cross_entropy_with_logits(h, labels))\n",
    "optimizer = tf.train.GradientDescentOptimizer(learning_rate)\n",
    "train_step = optimizer.minimize(loss)\n",
    "correct_prediction = tf.equal(tf.cast(pred, tf.float32), labels)\n",
    "accuracy = tf.reduce_mean(tf.cast(correct_prediction, tf.float32))"
   ]
  },
  {
   "cell_type": "code",
   "execution_count": null,
   "metadata": {
    "collapsed": true
   },
   "outputs": [],
   "source": [
    "# Creating Tensorflow session and initialization of variables\n",
    "sess = tf.InteractiveSession()\n",
    "sess.run(tf.global_variables_initializer())"
   ]
  },
  {
   "cell_type": "code",
   "execution_count": null,
   "metadata": {
    "collapsed": true
   },
   "outputs": [],
   "source": [
    "def run_epoch(dataset, n=1):\n",
    "    for epoch in range(n):\n",
    "        avg_loss = 0.\n",
    "        for train_x, train_labels in dataset.get_train_batches():\n",
    "            _, l = sess.run([train_step, loss], feed_dict={x: train_x, labels: train_labels})\n",
    "            avg_loss += l * len(train_x)\n",
    "        print(\"Epoch:\", '%d' % (epoch + 1), \"loss=\", \"{:.10f}\".format(avg_loss / len(dataset.train[0])))\n",
    "        print(\"\\tValidaton accuracy: {:.3f}\".format(accuracy.eval({x: dataset.valid[0], labels: dataset.valid[1]})))\n",
    "        print(\"\\tTrain accuracy: {:.3f}\".format(accuracy.eval({x: dataset.train[0], labels: dataset.train[1]})))"
   ]
  },
  {
   "cell_type": "code",
   "execution_count": null,
   "metadata": {
    "collapsed": false
   },
   "outputs": [],
   "source": [
    "run_epoch(dataset_separable)"
   ]
  },
  {
   "cell_type": "code",
   "execution_count": null,
   "metadata": {
    "collapsed": false
   },
   "outputs": [],
   "source": [
    "run_epoch(dataset_inseparable, 100)"
   ]
  },
  {
   "cell_type": "code",
   "execution_count": null,
   "metadata": {
    "collapsed": false
   },
   "outputs": [],
   "source": [
    "dataset = dataset_separable\n",
    "# dataset = dataset_inseparable\n",
    "run_epoch(dataset, 100)\n",
    "predicted_labels_train = pred.eval(feed_dict={x: dataset.train[0], labels: dataset.train[1]})\n",
    "plot_predicted_data(dataset.train, predicted_labels_train.flatten())\n",
    "predicted_labels_valid = pred.eval(feed_dict={x: dataset.valid[0], labels: dataset.valid[1]})\n",
    "plot_predicted_data(dataset.valid, predicted_labels_valid.flatten())"
   ]
  },
  {
   "cell_type": "code",
   "execution_count": null,
   "metadata": {
    "collapsed": true
   },
   "outputs": [],
   "source": [
    ""
   ]
  },
  {
   "cell_type": "code",
   "execution_count": null,
   "metadata": {
    "collapsed": true
   },
   "outputs": [],
   "source": [
    ""
   ]
  }
 ],
 "metadata": {
  "kernelspec": {
   "display_name": "Python 2",
   "language": "python",
   "name": "python2"
  },
  "language_info": {
   "codemirror_mode": {
    "name": "ipython",
    "version": 2.0
   },
   "file_extension": ".py",
   "mimetype": "text/x-python",
   "name": "python",
   "nbconvert_exporter": "python",
   "pygments_lexer": "ipython2",
   "version": "2.7.10"
  }
 },
 "nbformat": 4,
 "nbformat_minor": 0
}